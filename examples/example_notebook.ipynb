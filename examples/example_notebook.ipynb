{
 "cells": [
  {
   "cell_type": "code",
   "execution_count": null,
   "metadata": {},
   "outputs": [],
   "source": [
    "import sys\n",
    "sys.path.append(\"..\")\n",
    "import symlc\n",
    "import sympy.printing.latex as ltx\n",
    "from sympy import init_printing\n",
    "import sympy as sp\n",
    "import matplotlib.pyplot as plt\n",
    "\n",
    "init_printing()"
   ]
  },
  {
   "cell_type": "markdown",
   "metadata": {},
   "source": [
    "# Van der Pol oscillator"
   ]
  },
  {
   "cell_type": "code",
   "execution_count": null,
   "metadata": {},
   "outputs": [],
   "source": [
    "#van der Pol\n",
    "%matplotlib notebook\n",
    "a = symlc.dynsys([\n",
    "        \"x1_1-1./p1_1*(1-x1_0*x1_0/3.)*x1_0-1./p1_1*x2_0\",\n",
    "        \"x2_1+x1_0\"\n",
    "])\n",
    "\n",
    "a.equations"
   ]
  },
  {
   "cell_type": "code",
   "execution_count": null,
   "metadata": {},
   "outputs": [],
   "source": [
    "numerics = {\"time\":[0.,120.,1000.], \"initial_condition\":[0.,1.]}\n",
    "\n",
    "a.plot_slow_mf_and_simulation({'p1_1':0.05}, numerics=numerics)"
   ]
  },
  {
   "cell_type": "markdown",
   "metadata": {},
   "source": [
    "# Rayleigh oscillator"
   ]
  },
  {
   "cell_type": "code",
   "execution_count": null,
   "metadata": {},
   "outputs": [],
   "source": [
    "#Rayleigh\n",
    "b = symlc.dynsys([\n",
    "        \"x1_2-p1_1*(1-x1_1*x1_1)*x1_1+p1_2*x1_0\"\n",
    "])\n",
    "\n",
    "b.equations"
   ]
  },
  {
   "cell_type": "code",
   "execution_count": null,
   "metadata": {},
   "outputs": [],
   "source": [
    "b.plot_slow_mf_and_simulation({'p1_1':6, 'p1_2':1}, numerics=numerics)\t#Rayleigh"
   ]
  },
  {
   "cell_type": "markdown",
   "metadata": {},
   "source": [
    "# Fitz Hugh-Nagumo system"
   ]
  },
  {
   "cell_type": "code",
   "execution_count": null,
   "metadata": {},
   "outputs": [],
   "source": [
    "#FitzHugh-Nagumo\n",
    "c = symlc.dynsys([\n",
    "        \"x1_1-x1_0+1./3.*x1_0*x1_0*x1_0+x2_0-p1_1\",\n",
    "        \"p2_1*x2_1-x1_0-p2_2+p2_3*x2_0\"\n",
    "])\n",
    "\n",
    "c.equations"
   ]
  },
  {
   "cell_type": "code",
   "execution_count": null,
   "metadata": {},
   "outputs": [],
   "source": [
    "numerics[\"initial_condition\"]=[0.,1.5]\n",
    "c.plot_slow_mf_and_simulation({'p1_1':0.5, 'p2_1':12.5,'p2_2':0.8,'p2_3':0.7}, numerics=numerics)\t"
   ]
  },
  {
   "cell_type": "markdown",
   "metadata": {},
   "source": [
    "# Lorenz system"
   ]
  },
  {
   "cell_type": "code",
   "execution_count": null,
   "metadata": {},
   "outputs": [],
   "source": [
    "#Lorenz system\n",
    "d = symlc.dynsys([\n",
    "\t\t\"x1_1+p1_1*x1_0-p1_1*x2_0\",\n",
    "\t\t\"x2_1+x1_0*x3_0-p2_1*x1_0+x2_0\",\n",
    "\t\t\"x3_1-x1_0*x2_0+p3_1*x3_0\"\n",
    "])\n",
    "\n",
    "d.equations"
   ]
  },
  {
   "cell_type": "code",
   "execution_count": null,
   "metadata": {},
   "outputs": [],
   "source": [
    "print(\"Flow curvature manifold Lorenz model\")\n",
    "numerics={\"initial_condition\":[1.,4.,1.], \"time\":[0.,1000.,1000]}\n",
    "%matplotlib notebook\n",
    "d.plot_slow_mf_and_simulation_3d({'p1_1':10.,'p2_1':28.,'p3_1':8./3.}, numerics=numerics, bbox=(-40., 40.))"
   ]
  },
  {
   "cell_type": "code",
   "execution_count": null,
   "metadata": {},
   "outputs": [],
   "source": [
    "d.plot_slow_mf_and_simulation_3d({'p1_1':10.,'p2_1':28.,'p3_1':8./3.}, numerics=numerics, bbox=(-40., 40.))"
   ]
  },
  {
   "cell_type": "markdown",
   "metadata": {},
   "source": [
    "# Stuart Landau equation"
   ]
  },
  {
   "cell_type": "code",
   "execution_count": null,
   "metadata": {},
   "outputs": [],
   "source": [
    "#Stuart Landau (fromulation as real second order system from https://arxiv.org/pdf/1403.2907.pdf )\n",
    "e = symlc.dynsys([\n",
    "    \"x1_1-(1-x1_0**2-x2_0**2)*x1_0-p1_1*x2_0\",\n",
    "    \"x2_1+(1-x1_0**2-x2_0**2)*x2_0+p1_1*x1_0\"\n",
    "])\n",
    "\n",
    "e.equations"
   ]
  },
  {
   "cell_type": "code",
   "execution_count": null,
   "metadata": {},
   "outputs": [],
   "source": [
    "print(\"Flow curvature manifold Stuart Landau model\")\n",
    "numerics[\"initial_condition\"] = [0.,1.]\n",
    "e.plot_slow_mf_and_simulation({'p1_1':1}, numerics=numerics)"
   ]
  },
  {
   "cell_type": "code",
   "execution_count": null,
   "metadata": {},
   "outputs": [],
   "source": []
  }
 ],
 "metadata": {
  "kernelspec": {
   "display_name": "Python 2",
   "language": "python",
   "name": "python2"
  },
  "language_info": {
   "codemirror_mode": {
    "name": "ipython",
    "version": 2
   },
   "file_extension": ".py",
   "mimetype": "text/x-python",
   "name": "python",
   "nbconvert_exporter": "python",
   "pygments_lexer": "ipython2",
   "version": "2.7.12"
  }
 },
 "nbformat": 4,
 "nbformat_minor": 2
}
